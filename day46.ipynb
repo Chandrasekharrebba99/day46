{
 "cells": [
  {
   "cell_type": "code",
   "execution_count": 3,
   "id": "77782015",
   "metadata": {},
   "outputs": [
    {
     "name": "stdout",
     "output_type": "stream",
     "text": [
      "231\n",
      "9\n"
     ]
    }
   ],
   "source": [
    "num = 2319\n",
    "print(num//10)\n",
    "print(num%10)"
   ]
  },
  {
   "cell_type": "code",
   "execution_count": 8,
   "id": "5b5a8ef0",
   "metadata": {},
   "outputs": [
    {
     "name": "stdout",
     "output_type": "stream",
     "text": [
      "4\n",
      "823\n"
     ]
    }
   ],
   "source": [
    "num= 8234\n",
    "print(num%10)\n",
    "num= num//10\n",
    "print(num)"
   ]
  },
  {
   "cell_type": "code",
   "execution_count": 9,
   "id": "a8ad9a17",
   "metadata": {},
   "outputs": [
    {
     "data": {
      "text/plain": [
       "27"
      ]
     },
     "execution_count": 9,
     "metadata": {},
     "output_type": "execute_result"
    }
   ],
   "source": [
    "3*3*3"
   ]
  },
  {
   "cell_type": "code",
   "execution_count": 13,
   "id": "81a654c3",
   "metadata": {},
   "outputs": [
    {
     "data": {
      "text/plain": [
       "[1, 2, 3, 4, 5, 6, 7, 8, 9]"
      ]
     },
     "execution_count": 13,
     "metadata": {},
     "output_type": "execute_result"
    }
   ],
   "source": [
    "list_a = [1,2,3,4,5]\n",
    "list_b = [6,7,8,9]\n",
    "\n",
    "k = (list_a.extend(list_b))\n",
    "list_a"
   ]
  },
  {
   "cell_type": "code",
   "execution_count": 4,
   "id": "9f7df50a",
   "metadata": {},
   "outputs": [
    {
     "name": "stdout",
     "output_type": "stream",
     "text": [
      "10\n",
      "0\n",
      "1\n",
      "1\n",
      "2\n",
      "3\n",
      "5\n",
      "8\n",
      "13\n",
      "21\n",
      "34\n"
     ]
    }
   ],
   "source": [
    "num = int(input())\n",
    "\n",
    "n0 = 0\n",
    "n1 = 1\n",
    "count = 0\n",
    "\n",
    "while count<num:\n",
    "    print(n0)\n",
    "    nth = n0+n1 \n",
    "    n0 = n1\n",
    "    n1 = nth\n",
    "    count +=1\n",
    "    "
   ]
  },
  {
   "cell_type": "markdown",
   "id": "220873cf",
   "metadata": {},
   "source": [
    "# nth fibunacci"
   ]
  },
  {
   "cell_type": "code",
   "execution_count": 2,
   "id": "495539b7",
   "metadata": {},
   "outputs": [
    {
     "name": "stdout",
     "output_type": "stream",
     "text": [
      "5\n",
      "5\n"
     ]
    }
   ],
   "source": [
    "def fibu(n):\n",
    "    if n<=1:\n",
    "        return n\n",
    "    else:\n",
    "        return fibu(n-1)+fibu(n-2)\n",
    "    \n",
    "n = int(input())\n",
    "print(fibu(n))"
   ]
  },
  {
   "cell_type": "code",
   "execution_count": 7,
   "id": "2f074e9a",
   "metadata": {},
   "outputs": [
    {
     "ename": "ValueError",
     "evalue": "invalid literal for int() with base 10: 'dce'",
     "output_type": "error",
     "traceback": [
      "\u001b[1;31m---------------------------------------------------------------------------\u001b[0m",
      "\u001b[1;31mValueError\u001b[0m                                Traceback (most recent call last)",
      "Input \u001b[1;32mIn [7]\u001b[0m, in \u001b[0;36m<cell line: 2>\u001b[1;34m()\u001b[0m\n\u001b[0;32m      1\u001b[0m fg \u001b[38;5;241m=\u001b[39m \u001b[38;5;124m\"\u001b[39m\u001b[38;5;124mdce ejfe kejrf 87 948 48\u001b[39m\u001b[38;5;124m\"\u001b[39m\n\u001b[1;32m----> 2\u001b[0m arr \u001b[38;5;241m=\u001b[39m \u001b[38;5;28;43mlist\u001b[39;49m\u001b[43m(\u001b[49m\u001b[38;5;28;43mmap\u001b[39;49m\u001b[43m(\u001b[49m\u001b[38;5;28;43mint\u001b[39;49m\u001b[43m,\u001b[49m\u001b[43mfg\u001b[49m\u001b[38;5;241;43m.\u001b[39;49m\u001b[43msplit\u001b[49m\u001b[43m(\u001b[49m\u001b[38;5;124;43m\"\u001b[39;49m\u001b[38;5;124;43m \u001b[39;49m\u001b[38;5;124;43m\"\u001b[39;49m\u001b[43m)\u001b[49m\u001b[43m)\u001b[49m\u001b[43m)\u001b[49m\n\u001b[0;32m      3\u001b[0m \u001b[38;5;28mprint\u001b[39m(arr)\n",
      "\u001b[1;31mValueError\u001b[0m: invalid literal for int() with base 10: 'dce'"
     ]
    }
   ],
   "source": [
    "fg = \"dce ejfe kejrf 87 948 48\"\n",
    "arr = fg.split(\"\")\n",
    "print(arr)"
   ]
  },
  {
   "cell_type": "code",
   "execution_count": 9,
   "id": "b388a6b4",
   "metadata": {},
   "outputs": [
    {
     "name": "stdout",
     "output_type": "stream",
     "text": [
      "['233']\n"
     ]
    }
   ],
   "source": [
    "a = \"233\"\n",
    "arr = []\n",
    "if a.isdigit():\n",
    "    arr.append(a)\n",
    "print(arr)"
   ]
  },
  {
   "cell_type": "code",
   "execution_count": 26,
   "id": "83285786",
   "metadata": {},
   "outputs": [
    {
     "ename": "ValueError",
     "evalue": "list.remove(x): x not in list",
     "output_type": "error",
     "traceback": [
      "\u001b[1;31m---------------------------------------------------------------------------\u001b[0m",
      "\u001b[1;31mValueError\u001b[0m                                Traceback (most recent call last)",
      "Input \u001b[1;32mIn [26]\u001b[0m, in \u001b[0;36m<cell line: 2>\u001b[1;34m()\u001b[0m\n\u001b[0;32m      1\u001b[0m a \u001b[38;5;241m=\u001b[39m [\u001b[38;5;124m'\u001b[39m\u001b[38;5;124mB\u001b[39m\u001b[38;5;124m'\u001b[39m,\u001b[38;5;124m'\u001b[39m\u001b[38;5;124mA\u001b[39m\u001b[38;5;124m'\u001b[39m,\u001b[38;5;124m'\u001b[39m\u001b[38;5;124m1\u001b[39m\u001b[38;5;124m'\u001b[39m,\u001b[38;5;124m'\u001b[39m\u001b[38;5;124m2\u001b[39m\u001b[38;5;124m'\u001b[39m]\n\u001b[1;32m----> 2\u001b[0m \u001b[43ma\u001b[49m\u001b[38;5;241;43m.\u001b[39;49m\u001b[43mremove\u001b[49m\u001b[43m(\u001b[49m\u001b[38;5;124;43m'\u001b[39;49m\u001b[38;5;124;43m9\u001b[39;49m\u001b[38;5;124;43m'\u001b[39;49m\u001b[43m)\u001b[49m\n",
      "\u001b[1;31mValueError\u001b[0m: list.remove(x): x not in list"
     ]
    }
   ],
   "source": [
    "a = ['B','A','1','2']\n",
    "a.remove('9')"
   ]
  },
  {
   "cell_type": "code",
   "execution_count": 27,
   "id": "25d77866",
   "metadata": {},
   "outputs": [
    {
     "data": {
      "text/plain": [
       "['B', 'A', '1', '2']"
      ]
     },
     "execution_count": 27,
     "metadata": {},
     "output_type": "execute_result"
    }
   ],
   "source": [
    "a"
   ]
  },
  {
   "cell_type": "code",
   "execution_count": 28,
   "id": "66ad87bc",
   "metadata": {},
   "outputs": [
    {
     "data": {
      "text/plain": [
       "200"
      ]
     },
     "execution_count": 28,
     "metadata": {},
     "output_type": "execute_result"
    }
   ],
   "source": [
    "62+58+80"
   ]
  },
  {
   "cell_type": "code",
   "execution_count": 29,
   "id": "752f5228",
   "metadata": {},
   "outputs": [
    {
     "data": {
      "text/plain": [
       "0.6666666666666666"
      ]
     },
     "execution_count": 29,
     "metadata": {},
     "output_type": "execute_result"
    }
   ],
   "source": [
    "200/300"
   ]
  },
  {
   "cell_type": "code",
   "execution_count": 30,
   "id": "2c448f0b",
   "metadata": {},
   "outputs": [
    {
     "data": {
      "text/plain": [
       "81"
      ]
     },
     "execution_count": 30,
     "metadata": {},
     "output_type": "execute_result"
    }
   ],
   "source": [
    "66+10+5"
   ]
  },
  {
   "cell_type": "markdown",
   "id": "5a6f15b9",
   "metadata": {},
   "source": [
    "# peak elements"
   ]
  },
  {
   "cell_type": "code",
   "execution_count": null,
   "id": "dd49b2f3",
   "metadata": {},
   "outputs": [],
   "source": [
    "arr = [1,2,1,3,5,6,4]\n",
    "low = 0\n",
    "end = len(arr)\n",
    "\n",
    "while low<end:\n",
    "     \n",
    "    mid = low + (end - low+1)//2\n",
    "    \n",
    "    if arr[mid]>arr[mid-1] and arr[mid]<arr[mid+1]:\n",
    "        print(mid)\n",
    "    "
   ]
  },
  {
   "cell_type": "code",
   "execution_count": 32,
   "id": "b62d1283",
   "metadata": {},
   "outputs": [
    {
     "name": "stdout",
     "output_type": "stream",
     "text": [
      "4\n"
     ]
    }
   ],
   "source": [
    "class Solution(object):\n",
    "   def findPeakElement(self, nums):\n",
    "      low = 0\n",
    "      high = len(nums)-1\n",
    "      while low<high:\n",
    "         mid = low + (high - low+1)//2\n",
    "         if (mid-1>=0 and nums[mid-1]<=nums[mid]):\n",
    "            low = mid\n",
    "         else:\n",
    "            high = mid-1\n",
    "      return nums[low+1]\n",
    "ob1 = Solution()\n",
    "print(ob1.findPeakElement([1,2,1,3,5,6,4]))"
   ]
  },
  {
   "cell_type": "code",
   "execution_count": null,
   "id": "d58220f5",
   "metadata": {},
   "outputs": [],
   "source": [
    "class Solution(object):\n",
    "   def findPeakElement(self, nums):\n",
    "      low = 0\n",
    "      high = len(nums)-1\n",
    "      while low<high:\n",
    "         mid = low + (high - low+1)//2\n",
    "         if (mid-1>=0 and nums[mid-1]<=nums[mid]):\n",
    "            low = mid\n",
    "         else:\n",
    "            high = mid-1\n",
    "      return nums[low+1]\n",
    "ob1 = Solution()\n",
    "print(ob1.findPeakElement([15,35,85,96,5,6,8,12]))"
   ]
  },
  {
   "cell_type": "code",
   "execution_count": null,
   "id": "de9183f3",
   "metadata": {},
   "outputs": [],
   "source": []
  },
  {
   "cell_type": "code",
   "execution_count": null,
   "id": "79dc0a27",
   "metadata": {},
   "outputs": [],
   "source": []
  },
  {
   "cell_type": "code",
   "execution_count": 4,
   "id": "b0d54766",
   "metadata": {},
   "outputs": [
    {
     "name": "stdout",
     "output_type": "stream",
     "text": [
      "3\n",
      "1\n",
      "2\n",
      "3\n",
      "4\n",
      "5\n",
      "6\n",
      "7\n",
      "8\n",
      "9\n",
      "[[1, 2, 3], [4, 5, 6], [7, 8, 9]]\n",
      "Sum of last row: 24\n",
      "Sum of midddle column: 15\n"
     ]
    }
   ],
   "source": [
    "row = int(input())\n",
    "mat = []\n",
    "for i in range(row):\n",
    "    ar = []\n",
    "    for j in range(row):\n",
    "        num = int(input())\n",
    "        ar.append(num)\n",
    "    mat.append(ar)\n",
    "print(mat)\n",
    "\n",
    "sumrow = 0\n",
    "sumcolm = 0\n",
    "for i in range(row):\n",
    "    for j in range(row):\n",
    "        if i == len(mat)-1:\n",
    "            sumrow +=mat[i][j]\n",
    "        if j == (len(mat)//2):\n",
    "            sumcolm += mat[i][j]\n",
    "\n",
    "\n",
    "print(\"Sum of last row:\",sumrow)\n",
    "print(\"Sum of midddle column:\",sumcolm)"
   ]
  },
  {
   "cell_type": "code",
   "execution_count": 3,
   "id": "95d8369c",
   "metadata": {},
   "outputs": [
    {
     "data": {
      "text/plain": [
       "39"
      ]
     },
     "execution_count": 3,
     "metadata": {},
     "output_type": "execute_result"
    }
   ],
   "source": [
    "4+5+6+7+8+9"
   ]
  },
  {
   "cell_type": "code",
   "execution_count": 2,
   "id": "31d24d76",
   "metadata": {},
   "outputs": [
    {
     "data": {
      "text/plain": [
       "15"
      ]
     },
     "execution_count": 2,
     "metadata": {},
     "output_type": "execute_result"
    }
   ],
   "source": [
    "2+5+8"
   ]
  },
  {
   "cell_type": "code",
   "execution_count": 3,
   "id": "69eb41fb",
   "metadata": {},
   "outputs": [
    {
     "data": {
      "text/plain": [
       "1.5"
      ]
     },
     "execution_count": 3,
     "metadata": {},
     "output_type": "execute_result"
    }
   ],
   "source": [
    "3/2"
   ]
  },
  {
   "cell_type": "code",
   "execution_count": 7,
   "id": "9d9c310e",
   "metadata": {},
   "outputs": [
    {
     "data": {
      "text/plain": [
       "217"
      ]
     },
     "execution_count": 7,
     "metadata": {},
     "output_type": "execute_result"
    }
   ],
   "source": [
    "62+58+7+10+80"
   ]
  },
  {
   "cell_type": "code",
   "execution_count": 8,
   "id": "199e5a7a",
   "metadata": {},
   "outputs": [
    {
     "data": {
      "text/plain": [
       "300"
      ]
     },
     "execution_count": 8,
     "metadata": {},
     "output_type": "execute_result"
    }
   ],
   "source": [
    "300"
   ]
  },
  {
   "cell_type": "code",
   "execution_count": 9,
   "id": "ee7e5115",
   "metadata": {},
   "outputs": [
    {
     "data": {
      "text/plain": [
       "0.7233333333333334"
      ]
     },
     "execution_count": 9,
     "metadata": {},
     "output_type": "execute_result"
    }
   ],
   "source": [
    "217/300"
   ]
  },
  {
   "cell_type": "code",
   "execution_count": 10,
   "id": "568d3331",
   "metadata": {},
   "outputs": [
    {
     "data": {
      "text/plain": [
       "200"
      ]
     },
     "execution_count": 10,
     "metadata": {},
     "output_type": "execute_result"
    }
   ],
   "source": [
    "80+62+58"
   ]
  },
  {
   "cell_type": "code",
   "execution_count": 11,
   "id": "d0864944",
   "metadata": {},
   "outputs": [
    {
     "data": {
      "text/plain": [
       "0.6666666666666666"
      ]
     },
     "execution_count": 11,
     "metadata": {},
     "output_type": "execute_result"
    }
   ],
   "source": [
    "200/300"
   ]
  },
  {
   "cell_type": "code",
   "execution_count": 12,
   "id": "992c2586",
   "metadata": {},
   "outputs": [
    {
     "data": {
      "text/plain": [
       "82"
      ]
     },
     "execution_count": 12,
     "metadata": {},
     "output_type": "execute_result"
    }
   ],
   "source": [
    "66+6+10"
   ]
  },
  {
   "cell_type": "code",
   "execution_count": 14,
   "id": "a15c06ef",
   "metadata": {},
   "outputs": [
    {
     "data": {
      "text/plain": [
       "2"
      ]
     },
     "execution_count": 14,
     "metadata": {},
     "output_type": "execute_result"
    }
   ],
   "source": [
    "2%6"
   ]
  },
  {
   "cell_type": "code",
   "execution_count": 15,
   "id": "4d42d9f2",
   "metadata": {},
   "outputs": [
    {
     "data": {
      "text/plain": [
       "62"
      ]
     },
     "execution_count": 15,
     "metadata": {},
     "output_type": "execute_result"
    }
   ],
   "source": [
    "31*2"
   ]
  },
  {
   "cell_type": "code",
   "execution_count": 16,
   "id": "b3e94b26",
   "metadata": {},
   "outputs": [
    {
     "data": {
      "text/plain": [
       "68"
      ]
     },
     "execution_count": 16,
     "metadata": {},
     "output_type": "execute_result"
    }
   ],
   "source": [
    "62+6"
   ]
  },
  {
   "cell_type": "code",
   "execution_count": null,
   "id": "94df4996",
   "metadata": {},
   "outputs": [],
   "source": []
  }
 ],
 "metadata": {
  "kernelspec": {
   "display_name": "Python 3 (ipykernel)",
   "language": "python",
   "name": "python3"
  },
  "language_info": {
   "codemirror_mode": {
    "name": "ipython",
    "version": 3
   },
   "file_extension": ".py",
   "mimetype": "text/x-python",
   "name": "python",
   "nbconvert_exporter": "python",
   "pygments_lexer": "ipython3",
   "version": "3.8.0"
  }
 },
 "nbformat": 4,
 "nbformat_minor": 5
}
